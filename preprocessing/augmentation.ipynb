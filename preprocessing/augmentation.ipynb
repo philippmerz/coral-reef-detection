{
 "cells": [
  {
   "cell_type": "code",
   "id": "initial_id",
   "metadata": {
    "collapsed": true
   },
   "source": [
    "import albumentations as A\n",
    "import cv2\n",
    "import os\n",
    "import numpy as np"
   ],
   "outputs": [],
   "execution_count": null
  },
  {
   "metadata": {},
   "cell_type": "code",
   "source": [
    "# Input/output directories (adjust paths)\n",
    "input_img_dir = '../data/coral_bleaching/reef_support/UNAL_BLEACHING_TAYRONA/images'\n",
    "input_bleached_mask_dir = '../data/coral_bleaching/reef_support/UNAL_BLEACHING_TAYRONA/masks_bleached'\n",
    "input_nonbleached_mask_dir = '../data/coral_bleaching/reef_support/UNAL_BLEACHING_TAYRONA/masks_non_bleached'\n",
    "output_img_dir = '../data/coral_bleaching/augmented/images'\n",
    "output_bleached_mask_dir = '../data/coral_bleaching/augmented/masks_bleached'\n",
    "output_nonbleached_mask_dir = '../data/coral_bleaching/augmented/masks_non_bleached'\n",
    "\n",
    "os.makedirs(output_img_dir, exist_ok=True)\n",
    "os.makedirs(output_bleached_mask_dir, exist_ok=True)\n",
    "os.makedirs(output_nonbleached_mask_dir, exist_ok=True)\n",
    "\n",
    "num_augmentations = 3"
   ],
   "id": "57e9544fee17f90e",
   "outputs": [],
   "execution_count": null
  },
  {
   "metadata": {},
   "cell_type": "code",
   "source": [
    "transform = A.Compose([\n",
    "    A.HorizontalFlip(p=0.5),\n",
    "    A.Rotate(limit=20, p=0.5, interpolation=cv2.INTER_NEAREST),\n",
    "    A.RandomScale(scale_limit=0.2, p=0.5, interpolation=cv2.INTER_NEAREST),\n",
    "    A.RandomBrightnessContrast(p=0.3),\n",
    "    A.HueSaturationValue(p=0.3),\n",
    "], additional_targets={'bleached_mask': 'mask', 'nonbleached_mask': 'mask'})"
   ],
   "id": "60fa419ef105664a",
   "outputs": [],
   "execution_count": null
  },
  {
   "metadata": {},
   "cell_type": "code",
   "source": [
    "for img_name in os.listdir(input_img_dir):\n",
    "    if not img_name.endswith(('.jpg', '.JPG')):\n",
    "        continue\n",
    "\n",
    "    img_path = os.path.join(input_img_dir, img_name)\n",
    "    img = cv2.imread(img_path)\n",
    "\n",
    "    base_name = os.path.splitext(img_name)[0]\n",
    "    bleached_mask_path = os.path.join(input_bleached_mask_dir, f\"{base_name}_bleached.png\")\n",
    "    nonbleached_mask_path = os.path.join(input_nonbleached_mask_dir, f\"{base_name}_non_bleached.png\")\n",
    "    if not (os.path.exists(bleached_mask_path) and os.path.exists(nonbleached_mask_path)):\n",
    "        continue\n",
    "    bleached_mask = cv2.imread(bleached_mask_path, cv2.IMREAD_GRAYSCALE)\n",
    "    nonbleached_mask = cv2.imread(nonbleached_mask_path, cv2.IMREAD_GRAYSCALE)\n",
    "\n",
    "    for aug_idx in range(num_augmentations):\n",
    "        augmented = transform(image=img, bleached_mask=bleached_mask, nonbleached_mask=nonbleached_mask)\n",
    "\n",
    "        aug_img = augmented['image']\n",
    "        aug_bleached_mask = augmented['bleached_mask']\n",
    "        aug_nonbleached_mask = augmented['nonbleached_mask']\n",
    "\n",
    "        aug_bleached_mask = np.where(aug_bleached_mask > 127, 255, 0).astype(np.uint8)\n",
    "        aug_nonbleached_mask = np.where(aug_nonbleached_mask > 127, 255, 0).astype(np.uint8)\n",
    "\n",
    "        aug_base_name = f\"aug_{aug_idx}_{base_name}\"\n",
    "        aug_img_name = f\"{aug_base_name}{os.path.splitext(img_name)[1]}\"\n",
    "        cv2.imwrite(os.path.join(output_img_dir, aug_img_name), aug_img)\n",
    "        cv2.imwrite(os.path.join(output_bleached_mask_dir, f\"{aug_base_name}_bleached.png\"), aug_bleached_mask)\n",
    "        cv2.imwrite(os.path.join(output_nonbleached_mask_dir, f\"{aug_base_name}_nonbleached.png\"), aug_nonbleached_mask)"
   ],
   "id": "7aaef8a3c5a02d14",
   "outputs": [],
   "execution_count": null
  },
  {
   "metadata": {},
   "cell_type": "code",
   "source": "",
   "id": "ff42e86b0dba9354",
   "outputs": [],
   "execution_count": null
  }
 ],
 "metadata": {
  "kernelspec": {
   "display_name": "Python 3",
   "language": "python",
   "name": "python3"
  },
  "language_info": {
   "codemirror_mode": {
    "name": "ipython",
    "version": 2
   },
   "file_extension": ".py",
   "mimetype": "text/x-python",
   "name": "python",
   "nbconvert_exporter": "python",
   "pygments_lexer": "ipython2",
   "version": "2.7.6"
  }
 },
 "nbformat": 4,
 "nbformat_minor": 5
}
