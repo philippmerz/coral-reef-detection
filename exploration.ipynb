{
 "cells": [
  {
   "metadata": {},
   "cell_type": "code",
   "outputs": [],
   "execution_count": null,
   "source": "",
   "id": "32f07377f9c96baa"
  },
  {
   "metadata": {
    "ExecuteTime": {
     "end_time": "2025-09-19T14:35:52.583589Z",
     "start_time": "2025-09-19T14:35:52.573741Z"
    }
   },
   "cell_type": "code",
   "source": [
    "from PIL import Image\n",
    "import os\n",
    "import glob\n",
    "\n",
    "def get_average_dimensions(directory):\n",
    "    total_width = 0\n",
    "    total_height = 0\n",
    "    image_count = 0\n",
    "\n",
    "    image_extensions = ['*.jpg', '*.jpeg', '*.png']\n",
    "\n",
    "    for ext in image_extensions:\n",
    "        for image_path in glob.glob(os.path.join(directory, ext)):\n",
    "            try:\n",
    "                with Image.open(image_path) as img:\n",
    "                    width, height = img.size\n",
    "                    total_width += width\n",
    "                    total_height += height\n",
    "                    image_count += 1\n",
    "            except Exception as e:\n",
    "                print(f\"Error processing {image_path}: {e}\")\n",
    "\n",
    "    if image_count > 0:\n",
    "        avg_width = total_width / image_count\n",
    "        avg_height = total_height / image_count\n",
    "        return avg_width, avg_height, image_count\n",
    "    else:\n",
    "        return 0, 0, 0"
   ],
   "id": "8e04588dc94812d9",
   "outputs": [],
   "execution_count": 11
  },
  {
   "metadata": {
    "ExecuteTime": {
     "end_time": "2025-09-19T14:40:15.892899Z",
     "start_time": "2025-09-19T14:40:15.781475Z"
    }
   },
   "cell_type": "code",
   "source": "get_average_dimensions('./data/coral_bleaching/reef_support/UNAL_BLEACHING_TAYRONA/images')",
   "id": "44c9534e86837c53",
   "outputs": [
    {
     "data": {
      "text/plain": [
       "(3333.63671875, 2517.134765625, 512)"
      ]
     },
     "execution_count": 14,
     "metadata": {},
     "output_type": "execute_result"
    }
   ],
   "execution_count": 14
  },
  {
   "metadata": {},
   "cell_type": "code",
   "outputs": [],
   "execution_count": null,
   "source": "",
   "id": "c0e2614a0ab7d9d9"
  }
 ],
 "metadata": {
  "kernelspec": {
   "display_name": "Python 3 (ipykernel)",
   "language": "python",
   "name": "python3"
  },
  "language_info": {
   "codemirror_mode": {
    "name": "ipython",
    "version": 2
   },
   "file_extension": ".py",
   "mimetype": "text/x-python",
   "name": "python",
   "nbconvert_exporter": "python",
   "pygments_lexer": "ipython2",
   "version": "2.7.6"
  }
 },
 "nbformat": 4,
 "nbformat_minor": 5
}
